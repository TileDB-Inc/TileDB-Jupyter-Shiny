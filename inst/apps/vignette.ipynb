{
 "cells": [
  {
   "cell_type": "markdown",
   "source": [
    "# Managing Background Shiny Apps"
   ],
   "metadata": {}
  },
  {
   "cell_type": "markdown",
   "source": [
    "This notebook provides an overview of `shinybg`'s app management functionality. "
   ],
   "metadata": {}
  },
  {
   "cell_type": "code",
   "execution_count": null,
   "source": [
    "library(shiny)\n",
    "library(shinybg)"
   ],
   "outputs": [],
   "metadata": {}
  },
  {
   "cell_type": "markdown",
   "source": [
    "## Registration\n",
    "\n",
    "Whenever a Shiny app is launched using `renderShinyApp()` or `runBackgroundApp()` it is registered with `shinybg`'s app manager."
   ],
   "metadata": {}
  },
  {
   "cell_type": "code",
   "execution_count": null,
   "source": [
    "app1 <- renderShinyApp(\n",
    "    appFile = system.file(\"apps/histogram-app.R\", package = \"shinybg\"),\n",
    "    port = 3000\n",
    ")"
   ],
   "outputs": [],
   "metadata": {}
  },
  {
   "cell_type": "markdown",
   "source": [
    "You can Verify the app is registered and running:"
   ],
   "metadata": {}
  },
  {
   "cell_type": "code",
   "execution_count": null,
   "source": [
    "shinybg:::app_manager"
   ],
   "outputs": [],
   "metadata": {}
  },
  {
   "cell_type": "markdown",
   "source": [
    "Let's start another instance of the same app on a different port."
   ],
   "metadata": {}
  },
  {
   "cell_type": "code",
   "execution_count": null,
   "source": [
    "app2 <- renderShinyApp(\n",
    "    appFile = system.file(\"apps/histogram-app.R\", package = \"shinybg\"),\n",
    "    port = 3001\n",
    ")"
   ],
   "outputs": [],
   "metadata": {}
  },
  {
   "cell_type": "markdown",
   "source": [
    "Now verify boths apps appear in the manager:"
   ],
   "metadata": {}
  },
  {
   "cell_type": "code",
   "execution_count": null,
   "source": [
    "shinybg:::app_manager"
   ],
   "outputs": [],
   "metadata": {}
  },
  {
   "cell_type": "markdown",
   "source": [
    "## Management\n",
    "\n",
    "You can use the app manager to kill any of your background Shiny apps:"
   ],
   "metadata": {}
  },
  {
   "cell_type": "code",
   "execution_count": null,
   "source": [
    "shinybg:::app_manager$kill_app(3000)"
   ],
   "outputs": [],
   "metadata": {}
  },
  {
   "cell_type": "markdown",
   "source": [
    "If you scroll up to the app's cell you'll see it is now greyed out, indicating it's been terminated."
   ],
   "metadata": {}
  },
  {
   "cell_type": "markdown",
   "source": [
    "If you attempt to launch an app on a port already in use the app manager will kill the existing app before starting the new one:"
   ],
   "metadata": {}
  },
  {
   "cell_type": "code",
   "execution_count": null,
   "source": [
    "system.file(\"apps/sever-info-app.R\", package = \"shinybg\")"
   ],
   "outputs": [],
   "metadata": {}
  },
  {
   "cell_type": "code",
   "execution_count": null,
   "source": [
    "app3 <- renderShinyApp(\n",
    "    appFile = system.file(\"apps/sever-info-app.R\", package = \"shinybg\"),\n",
    "    port = 3001\n",
    ")"
   ],
   "outputs": [],
   "metadata": {}
  },
  {
   "cell_type": "markdown",
   "source": [
    "## Cleanup\n",
    "\n",
    "Finally, we can use the app manager to kill all running apps."
   ],
   "metadata": {}
  },
  {
   "cell_type": "code",
   "execution_count": null,
   "source": [
    "shinybg:::app_manager$kill_all_apps()"
   ],
   "outputs": [],
   "metadata": {}
  }
 ],
 "metadata": {
  "kernelspec": {
   "display_name": "R",
   "language": "R",
   "name": "ir"
  },
  "language_info": {
   "codemirror_mode": "r",
   "file_extension": ".r",
   "mimetype": "text/x-r-source",
   "name": "R",
   "pygments_lexer": "r",
   "version": "4.1.0"
  }
 },
 "nbformat": 4,
 "nbformat_minor": 5
}