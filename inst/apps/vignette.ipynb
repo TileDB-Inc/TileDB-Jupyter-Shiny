{
 "cells": [
  {
   "cell_type": "markdown",
   "id": "6f7e38f7-c98b-4d3a-9131-eaed6fae2e18",
   "metadata": {},
   "source": [
    "# Managing Background Shiny Apps"
   ]
  },
  {
   "cell_type": "markdown",
   "id": "0380b7d4-bc76-47f3-b132-2476c9c65f81",
   "metadata": {},
   "source": [
    "This notebook provides an overview of `tiledbJupyterShiny`'s app management functionality. "
   ]
  },
  {
   "cell_type": "code",
   "execution_count": null,
   "id": "745835ca-a1e5-444f-b3b3-8654a399165e",
   "metadata": {},
   "outputs": [],
   "source": [
    "library(shiny)\n",
    "library(tiledbJupyterShiny)"
   ]
  },
  {
   "cell_type": "markdown",
   "id": "a7d72fcf-0f23-4af1-a604-39d0ad6235e7",
   "metadata": {},
   "source": [
    "## Registration\n",
    "\n",
    "Whenever a Shiny app is launched using `renderShinyApp()` or `runBackgroundApp()` it is registered with `tiledbJupyterShiny`'s app manager."
   ]
  },
  {
   "cell_type": "code",
   "execution_count": null,
   "id": "28688adb-3156-42d0-a96f-e17aec10630a",
   "metadata": {},
   "outputs": [],
   "source": [
    "app1 <- renderShinyApp(\n",
    "    appFile = system.file(\"apps/histogram-app.R\", package = \"tiledbJupyterShiny\"),\n",
    "    port = 3000\n",
    ")"
   ]
  },
  {
   "cell_type": "markdown",
   "id": "52f15475-816c-4a00-bd25-061da11b01d0",
   "metadata": {},
   "source": [
    "You can Verify the app is registered and running:"
   ]
  },
  {
   "cell_type": "code",
   "execution_count": null,
   "id": "8cfc6bef-1bea-4bad-8bb6-c6c354a9c2bf",
   "metadata": {},
   "outputs": [],
   "source": [
    "tiledbJupyterShiny:::app_manager"
   ]
  },
  {
   "cell_type": "markdown",
   "id": "f5c4632f-ce45-4737-b67b-3025964d313c",
   "metadata": {},
   "source": [
    "Let's start another instance of the same app on a different port."
   ]
  },
  {
   "cell_type": "code",
   "execution_count": null,
   "id": "d9f64deb-ec12-4c53-a37c-b282fb5f7a78",
   "metadata": {},
   "outputs": [],
   "source": [
    "app2 <- renderShinyApp(\n",
    "    appFile = system.file(\"apps/histogram-app.R\", package = \"tiledbJupyterShiny\"),\n",
    "    port = 3001\n",
    ")"
   ]
  },
  {
   "cell_type": "markdown",
   "id": "1d1e91a8-79a2-43cd-b53f-84e52843560d",
   "metadata": {},
   "source": [
    "Now verify boths apps appear in the manager:"
   ]
  },
  {
   "cell_type": "code",
   "execution_count": null,
   "id": "d775e855-23b2-4205-ac0e-fbd3630bbc79",
   "metadata": {},
   "outputs": [],
   "source": [
    "tiledbJupyterShiny:::app_manager"
   ]
  },
  {
   "cell_type": "markdown",
   "id": "d65eedc0-4aca-4846-b8bb-b5848c4f732d",
   "metadata": {},
   "source": [
    "## Management\n",
    "\n",
    "You can use the app manager to kill any of your background Shiny apps:"
   ]
  },
  {
   "cell_type": "code",
   "execution_count": null,
   "id": "d4b2acdc-39a5-45b4-bda3-17b44b785290",
   "metadata": {},
   "outputs": [],
   "source": [
    "tiledbJupyterShiny:::app_manager$kill_app(3000)"
   ]
  },
  {
   "cell_type": "markdown",
   "id": "b4084e4c-21b5-447d-ac9f-cd4be3f2095f",
   "metadata": {},
   "source": [
    "If you scroll up to the app's cell you'll see it is now greyed out, indicating it's been terminated."
   ]
  },
  {
   "cell_type": "markdown",
   "id": "b6c21086-907b-43d6-ad74-bd41db5075f8",
   "metadata": {},
   "source": [
    "If you attempt to launch an app on a port already in use the app manager will kill the existing app before starting the new one:"
   ]
  },
  {
   "cell_type": "code",
   "execution_count": null,
   "id": "9d974dd8-4e91-4862-96da-01615dce8af8",
   "metadata": {},
   "outputs": [],
   "source": [
    "system.file(\"apps/sever-info-app.R\", package = \"tiledbJupyterShiny\")"
   ]
  },
  {
   "cell_type": "code",
   "execution_count": null,
   "id": "39832725-c0c6-45bd-b76b-2c1d50e07bab",
   "metadata": {},
   "outputs": [],
   "source": [
    "app3 <- renderShinyApp(\n",
    "    appFile = system.file(\"apps/sever-info-app.R\", package = \"tiledbJupyterShiny\"),\n",
    "    port = 3001\n",
    ")"
   ]
  },
  {
   "cell_type": "markdown",
   "id": "03bea731-5a02-4ff9-a22b-d88553c4816e",
   "metadata": {},
   "source": [
    "## Cleanup\n",
    "\n",
    "Finally, we can use the app manager to kill all running apps."
   ]
  },
  {
   "cell_type": "code",
   "execution_count": null,
   "id": "bc5185fe-f54b-4622-a5a2-1989bd92872d",
   "metadata": {},
   "outputs": [],
   "source": [
    "tiledbJupyterShiny:::app_manager$kill_all_apps()"
   ]
  }
 ],
 "metadata": {
  "kernelspec": {
   "display_name": "R",
   "language": "R",
   "name": "ir"
  },
  "language_info": {
   "codemirror_mode": "r",
   "file_extension": ".r",
   "mimetype": "text/x-r-source",
   "name": "R",
   "pygments_lexer": "r",
   "version": "4.1.0"
  }
 },
 "nbformat": 4,
 "nbformat_minor": 5
}
