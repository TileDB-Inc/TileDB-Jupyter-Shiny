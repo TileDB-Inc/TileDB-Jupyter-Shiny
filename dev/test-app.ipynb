{
 "cells": [
  {
   "cell_type": "code",
   "execution_count": null,
   "id": "2934e7e5-89bd-4a44-bb8a-15a25a4ffe9b",
   "metadata": {},
   "outputs": [],
   "source": [
    "library(tiledbJupyterShiny)\n",
    "library(shiny)"
   ]
  },
  {
   "cell_type": "code",
   "execution_count": null,
   "id": "7782a3a0-fa64-404c-929e-93470ca6130f",
   "metadata": {},
   "outputs": [],
   "source": [
    "ui <- bootstrapPage(\n",
    "      numericInput('n', 'Number of obs', 25),\n",
    "      plotOutput('plot')\n",
    "    )"
   ]
  },
  {
   "cell_type": "code",
   "execution_count": null,
   "id": "ecd89a8e-9f5b-4974-9609-92db80ed2864",
   "metadata": {},
   "outputs": [],
   "source": [
    "renderShinyDashboard(ui)"
   ]
  }
 ],
 "metadata": {
  "kernelspec": {
   "display_name": "R",
   "language": "R",
   "name": "ir"
  },
  "language_info": {
   "codemirror_mode": "r",
   "file_extension": ".r",
   "mimetype": "text/x-r-source",
   "name": "R",
   "pygments_lexer": "r",
   "version": "4.0.5"
  }
 },
 "nbformat": 4,
 "nbformat_minor": 5
}
