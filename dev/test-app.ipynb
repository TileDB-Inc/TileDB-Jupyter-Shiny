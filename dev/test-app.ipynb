{
 "cells": [
  {
   "cell_type": "code",
   "execution_count": null,
   "source": [
    "library(shinybg)\n",
    "library(shiny)"
   ],
   "outputs": [],
   "metadata": {}
  },
  {
   "cell_type": "code",
   "execution_count": null,
   "source": [
    "ui <- bootstrapPage(\n",
    "      numericInput('n', 'Number of obs', 25),\n",
    "      plotOutput('plot')\n",
    "    )\n",
    "\n",
    "server <- function(input, output) {\n",
    "    output$plot <- renderPlot({\n",
    "        hist(runif(input$n))\n",
    "    })\n",
    "}"
   ],
   "outputs": [],
   "metadata": {}
  },
  {
   "cell_type": "code",
   "execution_count": null,
   "source": [
    "renderShinyApp(ui, server)"
   ],
   "outputs": [],
   "metadata": {}
  }
 ],
 "metadata": {
  "kernelspec": {
   "display_name": "R",
   "language": "R",
   "name": "ir"
  },
  "language_info": {
   "codemirror_mode": "r",
   "file_extension": ".r",
   "mimetype": "text/x-r-source",
   "name": "R",
   "pygments_lexer": "r",
   "version": "4.0.5"
  }
 },
 "nbformat": 4,
 "nbformat_minor": 5
}